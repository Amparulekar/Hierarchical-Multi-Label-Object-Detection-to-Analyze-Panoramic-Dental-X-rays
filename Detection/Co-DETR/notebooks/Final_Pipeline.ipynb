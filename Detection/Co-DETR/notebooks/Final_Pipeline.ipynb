{
  "cells": [
    {
      "cell_type": "code",
      "execution_count": 1,
      "metadata": {
        "id": "zuTOsvjvBwzE"
      },
      "outputs": [],
      "source": [
        "import cv2\n",
        "import matplotlib.pyplot as plt\n",
        "import json\n",
        "import pandas as pd"
      ]
    },
    {
      "cell_type": "markdown",
      "metadata": {
        "id": "VzeCVifRITCQ"
      },
      "source": [
        "# Load Data:"
      ]
    },
    {
      "cell_type": "code",
      "execution_count": 2,
      "metadata": {
        "colab": {
          "base_uri": "https://localhost:8080/"
        },
        "id": "43FWgi1jB59L",
        "outputId": "260e9913-8101-4f15-c84f-32e7ff999044"
      },
      "outputs": [
        {
          "data": {
            "text/plain": [
              "dict_keys(['images', 'annotations', 'categories_1', 'categories_2', 'categories_3'])"
            ]
          },
          "execution_count": 2,
          "metadata": {},
          "output_type": "execute_result"
        }
      ],
      "source": [
        "# filename will contain full address of qed.json given by the dataset\n",
        "\n",
        "filename = f\"/raid/infolab/bhavyakohli/mmdet/mmdetection/data/training_data/quadrant-enumeration-disease/train_quadrant_enumeration_disease.json\"\n",
        "f = json.load(open(filename))\n",
        "\n",
        "f.keys()"
      ]
    },
    {
      "cell_type": "code",
      "execution_count": 28,
      "metadata": {},
      "outputs": [
        {
          "data": {
            "text/plain": [
              "{'iscrowd': 0,\n",
              " 'image_id': 2,\n",
              " 'bbox': [1824.0, 995.0, 229.0, 255.0],\n",
              " 'segmentation': [[1958,\n",
              "   995,\n",
              "   1988,\n",
              "   1026,\n",
              "   2004,\n",
              "   1075,\n",
              "   2033,\n",
              "   1143,\n",
              "   2053,\n",
              "   1213,\n",
              "   2025,\n",
              "   1244,\n",
              "   1996,\n",
              "   1250,\n",
              "   1967,\n",
              "   1246,\n",
              "   1915,\n",
              "   1187,\n",
              "   1867,\n",
              "   1122,\n",
              "   1824,\n",
              "   1061,\n",
              "   1883,\n",
              "   1017,\n",
              "   1930,\n",
              "   1002]],\n",
              " 'id': 16,\n",
              " 'area': 32812,\n",
              " 'category_id_1': 2,\n",
              " 'category_id_2': 6,\n",
              " 'category_id_3': 1}"
            ]
          },
          "execution_count": 28,
          "metadata": {},
          "output_type": "execute_result"
        }
      ],
      "source": [
        "f['annotations'][15]"
      ]
    },
    {
      "cell_type": "code",
      "execution_count": 3,
      "metadata": {
        "colab": {
          "base_uri": "https://localhost:8080/"
        },
        "id": "f0Wjjqq3Kseu",
        "outputId": "759eb27b-8c8e-45a0-9db5-bd1647cdd873"
      },
      "outputs": [
        {
          "data": {
            "text/plain": [
              "[{'id': 0, 'name': 'Impacted', 'supercategory': 'Impacted'},\n",
              " {'id': 1, 'name': 'Caries', 'supercategory': 'Caries'},\n",
              " {'id': 2, 'name': 'Periapical Lesion', 'supercategory': 'Periapical Lesion'},\n",
              " {'id': 3, 'name': 'Deep Caries', 'supercategory': 'Deep Caries'}]"
            ]
          },
          "execution_count": 3,
          "metadata": {},
          "output_type": "execute_result"
        }
      ],
      "source": [
        "f['categories_3']"
      ]
    },
    {
      "cell_type": "code",
      "execution_count": 4,
      "metadata": {
        "colab": {
          "base_uri": "https://localhost:8080/"
        },
        "id": "YXaByp7HJnF5",
        "outputId": "1147cce1-29f7-428f-d05e-20023a717b48"
      },
      "outputs": [
        {
          "data": {
            "text/plain": [
              "dict_keys(['iscrowd', 'image_id', 'bbox', 'segmentation', 'id', 'area', 'category_id_1', 'category_id_2', 'category_id_3'])"
            ]
          },
          "execution_count": 4,
          "metadata": {},
          "output_type": "execute_result"
        }
      ],
      "source": [
        "f['annotations'][0].keys()"
      ]
    },
    {
      "cell_type": "code",
      "execution_count": 5,
      "metadata": {
        "id": "IwLyrm94C2H6"
      },
      "outputs": [],
      "source": [
        "# take annotations from the qed.jsona and convert it into a sorted dataframe\n",
        "\n",
        "annos = pd.DataFrame.from_dict(f['annotations'], orient='columns')\n",
        "annos.drop(columns = [\"iscrowd\", \"segmentation\", \"area\"], axis=1, inplace=True)\n",
        "annos.sort_values(by = [\"image_id\", \"category_id_1\", \"category_id_2\"], inplace = True)"
      ]
    },
    {
      "cell_type": "markdown",
      "metadata": {
        "id": "jD3w_sx7SoJe"
      },
      "source": [
        "# Performing some checks"
      ]
    },
    {
      "cell_type": "code",
      "execution_count": 6,
      "metadata": {
        "id": "1FeEh6EcRVUJ"
      },
      "outputs": [],
      "source": [
        "#annots = [{\"iscrowd\": 0, \"image_id\": 1, \"bbox\": [542.0, 698.0, 220.0, 271.0], \"segmentation\": [[621, 703, 573, 744, 542, 885, 580, 945, 650, 969, 711, 883, 762, 807, 748, 741, 649, 698]], \"id\": 1, \"area\": 39683, \"category_id_1\": 3, \"category_id_2\": 7, \"category_id_3\": 0}, {\"iscrowd\": 0, \"image_id\": 1, \"bbox\": [1952.0, 693.0, 177.0, 270.0], \"segmentation\": [[2045, 693, 2109, 734, 2129, 915, 2047, 963, 2009, 909, 1973, 851, 1955, 782, 1952, 730, 2000, 702]], \"id\": 2, \"area\": 33301, \"category_id_1\": 2, \"category_id_2\": 7, \"category_id_3\": 0}, {\"iscrowd\": 0, \"image_id\": 1, \"bbox\": [675.0, 708.0, 243.0, 300.0], \"segmentation\": [[784, 711, 754, 746, 737, 821, 678, 916, 675, 986, 690, 1003, 727, 1008, 787, 998, 851, 925, 885, 857, 918, 807, 916, 763, 882, 720, 827, 708]], \"id\": 3, \"area\": 45758, \"category_id_1\": 3, \"category_id_2\": 6, \"category_id_3\": 1}, {\"iscrowd\": 0, \"image_id\": 1, \"bbox\": [1463.0, 725.0, 98.0, 425.0], \"segmentation\": [[1464, 749, 1513, 725, 1550, 760, 1555, 798, 1548, 887, 1561, 1147, 1510, 1150, 1488, 1039, 1463, 873, 1463, 778]], \"id\": 4, \"area\": 30985, \"category_id_1\": 2, \"category_id_2\": 2, \"category_id_3\": 1}, {\"iscrowd\": 0, \"image_id\": 1, \"bbox\": [1536.0, 753.0, 103.0, 381.0], \"segmentation\": [[1543, 796, 1590, 753, 1622, 796, 1629, 840, 1623, 890, 1639, 1111, 1596, 1134, 1565, 1077, 1544, 974, 1536, 852, 1536, 805]], \"id\": 5, \"area\": 28044, \"category_id_1\": 2, \"category_id_2\": 3, \"category_id_3\": 1}, {\"iscrowd\": 0, \"image_id\": 1, \"bbox\": [1600.0, 762.0, 122.0, 337.0], \"segmentation\": [[1605, 797, 1646, 762, 1684, 785, 1701, 852, 1722, 1095, 1684, 1099, 1645, 1030, 1621, 884, 1600, 825]], \"id\": 6, \"area\": 24348, \"category_id_1\": 2, \"category_id_2\": 4, \"category_id_3\": 1}, {\"iscrowd\": 0, \"image_id\": 1, \"bbox\": [1701.0, 371.0, 145.0, 290.0], \"segmentation\": [[1716, 409, 1711, 543, 1701, 604, 1713, 651, 1770, 661, 1827, 636, 1831, 531, 1846, 396, 1835, 371, 1759, 371, 1730, 384]], \"id\": 7, \"area\": 34145, \"category_id_1\": 1, \"category_id_2\": 5, \"category_id_3\": 1}, {\"iscrowd\": 0, \"image_id\": 1, \"bbox\": [779.0, 376.0, 132.0, 317.0], \"segmentation\": [[779, 487, 791, 631, 800, 680, 822, 692, 894, 693, 911, 654, 910, 594, 887, 535, 856, 396, 816, 376, 779, 406]], \"id\": 8, \"area\": 31064, \"category_id_1\": 0, \"category_id_2\": 6, \"category_id_3\": 1}, {\"iscrowd\": 0, \"image_id\": 1, \"bbox\": [1667.0, 723.0, 237.0, 356.0], \"segmentation\": [[1667, 784, 1689, 747, 1741, 753, 1802, 723, 1816, 767, 1833, 873, 1904, 1023, 1784, 1079, 1725, 996, 1694, 878, 1668, 808]], \"id\": 9, \"area\": 46556, \"category_id_1\": 2, \"category_id_2\": 5, \"category_id_3\": 1}, {\"iscrowd\": 0, \"image_id\": 1, \"bbox\": [1806.0, 696.0, 237.0, 308.0], \"segmentation\": [[1843, 724, 1806, 745, 1807, 800, 1857, 901, 1921, 998, 2011, 1004, 2043, 959, 1999, 871, 1969, 803, 1950, 734, 1908, 696]], \"id\": 10, \"area\": 42235, \"category_id_1\": 2, \"category_id_2\": 6, \"category_id_3\": 1}, {\"iscrowd\": 0, \"image_id\": 1, \"bbox\": [1405.1948051948052, 724.6753246753246, 75.32467532467535, 353.2467532467533], \"segmentation\": [[1418, 724, 1476, 729, 1466, 841, 1477, 941, 1480, 1075, 1419, 1077, 1409, 931, 1405, 790]], \"id\": 11, \"area\": 22286, \"category_id_1\": 2, \"category_id_2\": 1, \"category_id_3\": 2}, {\"iscrowd\": 0, \"image_id\": 1, \"bbox\": [1344.155844155844, 720.7792207792207, 77.92207792207796, 385.71428571428567], \"segmentation\": [[1414, 720, 1403, 909, 1422, 1089, 1346, 1106, 1346, 887, 1344, 725]], \"id\": 12, \"area\": 24371, \"category_id_1\": 2, \"category_id_2\": 0, \"category_id_3\": 2}, {\"iscrowd\": 0, \"image_id\": 1, \"bbox\": [1288.3116883116884, 723.3766233766233, 62.33766233766232, 387.0129870129871], \"segmentation\": [[1344, 728, 1350, 1110, 1290, 1092, 1290, 962, 1288, 723]], \"id\": 13, \"area\": 21469, \"category_id_1\": 3, \"category_id_2\": 0, \"category_id_3\": 2}]"
      ]
    },
    {
      "cell_type": "code",
      "execution_count": 7,
      "metadata": {
        "colab": {
          "base_uri": "https://localhost:8080/",
          "height": 321
        },
        "id": "3cN5m4aARRop",
        "outputId": "94500615-ce6a-4bcb-c920-38838ac6dcb6"
      },
      "outputs": [],
      "source": [
        "# image = cv2.imread(\"train_673.png\")\n",
        "# for dic in annots:\n",
        "#   x_min, y_min, width, height = dic['bbox'][:]\n",
        "\n",
        "#   x_max = x_min + width\n",
        "#   y_max = y_min + height\n",
        "\n",
        "#   if dic[\"category_id_1\"] == 0:\n",
        "#     color = (255, 0, 0)    #red\n",
        "#   elif dic[\"category_id_1\"] == 1:\n",
        "#     color = (0, 255, 0)   #green\n",
        "#   elif dic[\"category_id_1\"] == 2:\n",
        "#     color = (0, 0, 255)   #blue\n",
        "#   elif dic[\"category_id_1\"] == 3:\n",
        "#     color = (0, 0,0)      #black\n",
        "#   thickness = 5\n",
        "#   cv2.rectangle(image, (int(x_min), int(y_min)), (int(x_max), int(y_max)), color, thickness)\n",
        "\n",
        "# plt.imshow(image)"
      ]
    },
    {
      "cell_type": "markdown",
      "metadata": {
        "id": "ALRuqnD-IcKs"
      },
      "source": [
        "# Run through M1"
      ]
    },
    {
      "cell_type": "code",
      "execution_count": 14,
      "metadata": {},
      "outputs": [],
      "source": [
        "from tqdm import tqdm"
      ]
    },
    {
      "cell_type": "code",
      "execution_count": 8,
      "metadata": {},
      "outputs": [
        {
          "name": "stderr",
          "output_type": "stream",
          "text": [
            "2024-04-08 14:55:30,749 - mmcv - INFO - initialize RPNHead with init_cfg {'type': 'Normal', 'layer': 'Conv2d', 'std': 0.01}\n",
            "2024-04-08 14:55:30,758 - mmcv - INFO - \n",
            "rpn_conv.weight - torch.Size([256, 256, 3, 3]): \n",
            "NormalInit: mean=0, std=0.01, bias=0 \n",
            " \n",
            "2024-04-08 14:55:30,758 - mmcv - INFO - \n",
            "rpn_conv.bias - torch.Size([256]): \n",
            "NormalInit: mean=0, std=0.01, bias=0 \n",
            " \n",
            "2024-04-08 14:55:30,759 - mmcv - INFO - \n",
            "rpn_cls.weight - torch.Size([9, 256, 1, 1]): \n",
            "NormalInit: mean=0, std=0.01, bias=0 \n",
            " \n",
            "2024-04-08 14:55:30,759 - mmcv - INFO - \n",
            "rpn_cls.bias - torch.Size([9]): \n",
            "NormalInit: mean=0, std=0.01, bias=0 \n",
            " \n",
            "2024-04-08 14:55:30,759 - mmcv - INFO - \n",
            "rpn_reg.weight - torch.Size([36, 256, 1, 1]): \n",
            "NormalInit: mean=0, std=0.01, bias=0 \n",
            " \n",
            "2024-04-08 14:55:30,760 - mmcv - INFO - \n",
            "rpn_reg.bias - torch.Size([36]): \n",
            "NormalInit: mean=0, std=0.01, bias=0 \n",
            " \n",
            "2024-04-08 14:55:30,839 - mmcv - INFO - initialize Shared2FCBBoxHead with init_cfg [{'type': 'Normal', 'std': 0.01, 'override': {'name': 'fc_cls'}}, {'type': 'Normal', 'std': 0.001, 'override': {'name': 'fc_reg'}}, {'type': 'Xavier', 'distribution': 'uniform', 'override': [{'name': 'shared_fcs'}, {'name': 'cls_fcs'}, {'name': 'reg_fcs'}]}]\n",
            "2024-04-08 14:55:31,000 - mmcv - INFO - \n",
            "bbox_head.fc_cls.weight - torch.Size([5, 1024]): \n",
            "NormalInit: mean=0, std=0.01, bias=0 \n",
            " \n",
            "2024-04-08 14:55:31,001 - mmcv - INFO - \n",
            "bbox_head.fc_cls.bias - torch.Size([5]): \n",
            "NormalInit: mean=0, std=0.01, bias=0 \n",
            " \n",
            "2024-04-08 14:55:31,001 - mmcv - INFO - \n",
            "bbox_head.fc_reg.weight - torch.Size([16, 1024]): \n",
            "NormalInit: mean=0, std=0.001, bias=0 \n",
            " \n",
            "2024-04-08 14:55:31,002 - mmcv - INFO - \n",
            "bbox_head.fc_reg.bias - torch.Size([16]): \n",
            "NormalInit: mean=0, std=0.001, bias=0 \n",
            " \n",
            "2024-04-08 14:55:31,003 - mmcv - INFO - \n",
            "bbox_head.shared_fcs.0.weight - torch.Size([1024, 12544]): \n",
            "XavierInit: gain=1, distribution=uniform, bias=0 \n",
            " \n",
            "2024-04-08 14:55:31,003 - mmcv - INFO - \n",
            "bbox_head.shared_fcs.0.bias - torch.Size([1024]): \n",
            "XavierInit: gain=1, distribution=uniform, bias=0 \n",
            " \n",
            "2024-04-08 14:55:31,003 - mmcv - INFO - \n",
            "bbox_head.shared_fcs.1.weight - torch.Size([1024, 1024]): \n",
            "XavierInit: gain=1, distribution=uniform, bias=0 \n",
            " \n",
            "2024-04-08 14:55:31,004 - mmcv - INFO - \n",
            "bbox_head.shared_fcs.1.bias - torch.Size([1024]): \n",
            "XavierInit: gain=1, distribution=uniform, bias=0 \n",
            " \n",
            "2024-04-08 14:55:31,020 - mmcv - INFO - initialize CoATSSHead with init_cfg {'type': 'Normal', 'layer': 'Conv2d', 'std': 0.01, 'override': {'type': 'Normal', 'name': 'atss_cls', 'std': 0.01, 'bias_prob': 0.01}}\n",
            "2024-04-08 14:55:31,035 - mmcv - INFO - \n",
            "cls_convs.0.conv.weight - torch.Size([256, 256, 3, 3]): \n",
            "NormalInit: mean=0, std=0.01, bias=0 \n",
            " \n",
            "2024-04-08 14:55:31,035 - mmcv - INFO - \n",
            "cls_convs.0.gn.weight - torch.Size([256]): \n",
            "The value is the same before and after calling `init_weights` of CoATSSHead  \n",
            " \n",
            "2024-04-08 14:55:31,035 - mmcv - INFO - \n",
            "cls_convs.0.gn.bias - torch.Size([256]): \n",
            "The value is the same before and after calling `init_weights` of CoATSSHead  \n",
            " \n",
            "2024-04-08 14:55:31,036 - mmcv - INFO - \n",
            "reg_convs.0.conv.weight - torch.Size([256, 256, 3, 3]): \n",
            "NormalInit: mean=0, std=0.01, bias=0 \n",
            " \n",
            "2024-04-08 14:55:31,036 - mmcv - INFO - \n",
            "reg_convs.0.gn.weight - torch.Size([256]): \n",
            "The value is the same before and after calling `init_weights` of CoATSSHead  \n",
            " \n",
            "2024-04-08 14:55:31,037 - mmcv - INFO - \n",
            "reg_convs.0.gn.bias - torch.Size([256]): \n",
            "The value is the same before and after calling `init_weights` of CoATSSHead  \n",
            " \n",
            "2024-04-08 14:55:31,037 - mmcv - INFO - \n",
            "atss_cls.weight - torch.Size([4, 256, 3, 3]): \n",
            "NormalInit: mean=0, std=0.01, bias=-4.59511985013459 \n",
            " \n",
            "2024-04-08 14:55:31,037 - mmcv - INFO - \n",
            "atss_cls.bias - torch.Size([4]): \n",
            "NormalInit: mean=0, std=0.01, bias=-4.59511985013459 \n",
            " \n",
            "2024-04-08 14:55:31,038 - mmcv - INFO - \n",
            "atss_reg.weight - torch.Size([4, 256, 3, 3]): \n",
            "NormalInit: mean=0, std=0.01, bias=0 \n",
            " \n",
            "2024-04-08 14:55:31,038 - mmcv - INFO - \n",
            "atss_reg.bias - torch.Size([4]): \n",
            "NormalInit: mean=0, std=0.01, bias=0 \n",
            " \n",
            "2024-04-08 14:55:31,039 - mmcv - INFO - \n",
            "atss_centerness.weight - torch.Size([1, 256, 3, 3]): \n",
            "NormalInit: mean=0, std=0.01, bias=0 \n",
            " \n",
            "2024-04-08 14:55:31,039 - mmcv - INFO - \n",
            "atss_centerness.bias - torch.Size([1]): \n",
            "NormalInit: mean=0, std=0.01, bias=0 \n",
            " \n",
            "2024-04-08 14:55:31,039 - mmcv - INFO - \n",
            "scales.0.scale - torch.Size([]): \n",
            "The value is the same before and after calling `init_weights` of CoATSSHead  \n",
            " \n",
            "2024-04-08 14:55:31,040 - mmcv - INFO - \n",
            "scales.1.scale - torch.Size([]): \n",
            "The value is the same before and after calling `init_weights` of CoATSSHead  \n",
            " \n",
            "2024-04-08 14:55:31,040 - mmcv - INFO - \n",
            "scales.2.scale - torch.Size([]): \n",
            "The value is the same before and after calling `init_weights` of CoATSSHead  \n",
            " \n",
            "2024-04-08 14:55:31,040 - mmcv - INFO - \n",
            "scales.3.scale - torch.Size([]): \n",
            "The value is the same before and after calling `init_weights` of CoATSSHead  \n",
            " \n",
            "2024-04-08 14:55:31,041 - mmcv - INFO - \n",
            "scales.4.scale - torch.Size([]): \n",
            "The value is the same before and after calling `init_weights` of CoATSSHead  \n",
            " \n",
            "2024-04-08 14:55:31,041 - mmcv - INFO - \n",
            "scales.5.scale - torch.Size([]): \n",
            "The value is the same before and after calling `init_weights` of CoATSSHead  \n",
            " \n",
            "2024-04-08 14:55:36,991 - mmcv - INFO - initialize RPNHead with init_cfg {'type': 'Normal', 'layer': 'Conv2d', 'std': 0.01}\n",
            "2024-04-08 14:55:37,000 - mmcv - INFO - \n",
            "rpn_conv.weight - torch.Size([256, 256, 3, 3]): \n",
            "NormalInit: mean=0, std=0.01, bias=0 \n",
            " \n",
            "2024-04-08 14:55:37,000 - mmcv - INFO - \n",
            "rpn_conv.bias - torch.Size([256]): \n",
            "NormalInit: mean=0, std=0.01, bias=0 \n",
            " \n",
            "2024-04-08 14:55:37,000 - mmcv - INFO - \n",
            "rpn_cls.weight - torch.Size([9, 256, 1, 1]): \n",
            "NormalInit: mean=0, std=0.01, bias=0 \n",
            " \n",
            "2024-04-08 14:55:37,001 - mmcv - INFO - \n",
            "rpn_cls.bias - torch.Size([9]): \n",
            "NormalInit: mean=0, std=0.01, bias=0 \n",
            " \n",
            "2024-04-08 14:55:37,001 - mmcv - INFO - \n",
            "rpn_reg.weight - torch.Size([36, 256, 1, 1]): \n",
            "NormalInit: mean=0, std=0.01, bias=0 \n",
            " \n",
            "2024-04-08 14:55:37,002 - mmcv - INFO - \n",
            "rpn_reg.bias - torch.Size([36]): \n",
            "NormalInit: mean=0, std=0.01, bias=0 \n",
            " \n",
            "2024-04-08 14:55:37,083 - mmcv - INFO - initialize Shared2FCBBoxHead with init_cfg [{'type': 'Normal', 'std': 0.01, 'override': {'name': 'fc_cls'}}, {'type': 'Normal', 'std': 0.001, 'override': {'name': 'fc_reg'}}, {'type': 'Xavier', 'distribution': 'uniform', 'override': [{'name': 'shared_fcs'}, {'name': 'cls_fcs'}, {'name': 'reg_fcs'}]}]\n",
            "2024-04-08 14:55:37,283 - mmcv - INFO - \n",
            "bbox_head.fc_cls.weight - torch.Size([9, 1024]): \n",
            "NormalInit: mean=0, std=0.01, bias=0 \n",
            " \n",
            "2024-04-08 14:55:37,284 - mmcv - INFO - \n",
            "bbox_head.fc_cls.bias - torch.Size([9]): \n",
            "NormalInit: mean=0, std=0.01, bias=0 \n",
            " \n",
            "2024-04-08 14:55:37,284 - mmcv - INFO - \n",
            "bbox_head.fc_reg.weight - torch.Size([32, 1024]): \n",
            "NormalInit: mean=0, std=0.001, bias=0 \n",
            " \n",
            "2024-04-08 14:55:37,284 - mmcv - INFO - \n",
            "bbox_head.fc_reg.bias - torch.Size([32]): \n",
            "NormalInit: mean=0, std=0.001, bias=0 \n",
            " \n",
            "2024-04-08 14:55:37,285 - mmcv - INFO - \n",
            "bbox_head.shared_fcs.0.weight - torch.Size([1024, 12544]): \n",
            "XavierInit: gain=1, distribution=uniform, bias=0 \n",
            " \n",
            "2024-04-08 14:55:37,285 - mmcv - INFO - \n",
            "bbox_head.shared_fcs.0.bias - torch.Size([1024]): \n",
            "XavierInit: gain=1, distribution=uniform, bias=0 \n",
            " \n",
            "2024-04-08 14:55:37,286 - mmcv - INFO - \n",
            "bbox_head.shared_fcs.1.weight - torch.Size([1024, 1024]): \n",
            "XavierInit: gain=1, distribution=uniform, bias=0 \n",
            " \n",
            "2024-04-08 14:55:37,286 - mmcv - INFO - \n",
            "bbox_head.shared_fcs.1.bias - torch.Size([1024]): \n",
            "XavierInit: gain=1, distribution=uniform, bias=0 \n",
            " \n",
            "2024-04-08 14:55:37,303 - mmcv - INFO - initialize CoATSSHead with init_cfg {'type': 'Normal', 'layer': 'Conv2d', 'std': 0.01, 'override': {'type': 'Normal', 'name': 'atss_cls', 'std': 0.01, 'bias_prob': 0.01}}\n",
            "2024-04-08 14:55:37,319 - mmcv - INFO - \n",
            "cls_convs.0.conv.weight - torch.Size([256, 256, 3, 3]): \n",
            "NormalInit: mean=0, std=0.01, bias=0 \n",
            " \n",
            "2024-04-08 14:55:37,320 - mmcv - INFO - \n",
            "cls_convs.0.gn.weight - torch.Size([256]): \n",
            "The value is the same before and after calling `init_weights` of CoATSSHead  \n",
            " \n",
            "2024-04-08 14:55:37,321 - mmcv - INFO - \n",
            "cls_convs.0.gn.bias - torch.Size([256]): \n",
            "The value is the same before and after calling `init_weights` of CoATSSHead  \n",
            " \n",
            "2024-04-08 14:55:37,321 - mmcv - INFO - \n",
            "reg_convs.0.conv.weight - torch.Size([256, 256, 3, 3]): \n",
            "NormalInit: mean=0, std=0.01, bias=0 \n",
            " \n",
            "2024-04-08 14:55:37,321 - mmcv - INFO - \n",
            "reg_convs.0.gn.weight - torch.Size([256]): \n",
            "The value is the same before and after calling `init_weights` of CoATSSHead  \n",
            " \n",
            "2024-04-08 14:55:37,322 - mmcv - INFO - \n",
            "reg_convs.0.gn.bias - torch.Size([256]): \n",
            "The value is the same before and after calling `init_weights` of CoATSSHead  \n",
            " \n",
            "2024-04-08 14:55:37,322 - mmcv - INFO - \n",
            "atss_cls.weight - torch.Size([8, 256, 3, 3]): \n",
            "NormalInit: mean=0, std=0.01, bias=-4.59511985013459 \n",
            " \n",
            "2024-04-08 14:55:37,322 - mmcv - INFO - \n",
            "atss_cls.bias - torch.Size([8]): \n",
            "NormalInit: mean=0, std=0.01, bias=-4.59511985013459 \n",
            " \n",
            "2024-04-08 14:55:37,323 - mmcv - INFO - \n",
            "atss_reg.weight - torch.Size([4, 256, 3, 3]): \n",
            "NormalInit: mean=0, std=0.01, bias=0 \n",
            " \n",
            "2024-04-08 14:55:37,323 - mmcv - INFO - \n",
            "atss_reg.bias - torch.Size([4]): \n",
            "NormalInit: mean=0, std=0.01, bias=0 \n",
            " \n",
            "2024-04-08 14:55:37,324 - mmcv - INFO - \n",
            "atss_centerness.weight - torch.Size([1, 256, 3, 3]): \n",
            "NormalInit: mean=0, std=0.01, bias=0 \n",
            " \n",
            "2024-04-08 14:55:37,324 - mmcv - INFO - \n",
            "atss_centerness.bias - torch.Size([1]): \n",
            "NormalInit: mean=0, std=0.01, bias=0 \n",
            " \n",
            "2024-04-08 14:55:37,324 - mmcv - INFO - \n",
            "scales.0.scale - torch.Size([]): \n",
            "The value is the same before and after calling `init_weights` of CoATSSHead  \n",
            " \n",
            "2024-04-08 14:55:37,325 - mmcv - INFO - \n",
            "scales.1.scale - torch.Size([]): \n",
            "The value is the same before and after calling `init_weights` of CoATSSHead  \n",
            " \n",
            "2024-04-08 14:55:37,325 - mmcv - INFO - \n",
            "scales.2.scale - torch.Size([]): \n",
            "The value is the same before and after calling `init_weights` of CoATSSHead  \n",
            " \n",
            "2024-04-08 14:55:37,325 - mmcv - INFO - \n",
            "scales.3.scale - torch.Size([]): \n",
            "The value is the same before and after calling `init_weights` of CoATSSHead  \n",
            " \n",
            "2024-04-08 14:55:37,326 - mmcv - INFO - \n",
            "scales.4.scale - torch.Size([]): \n",
            "The value is the same before and after calling `init_weights` of CoATSSHead  \n",
            " \n",
            "2024-04-08 14:55:37,326 - mmcv - INFO - \n",
            "scales.5.scale - torch.Size([]): \n",
            "The value is the same before and after calling `init_weights` of CoATSSHead  \n",
            " \n"
          ]
        }
      ],
      "source": [
        "import sys, os\n",
        "sys.path.append(\"/raid/infolab/bhavyakohli/mmdet/Co-DETR/\")\n",
        "import warnings\n",
        "warnings.filterwarnings(action='ignore', category=DeprecationWarning)\n",
        "warnings.filterwarnings(action='ignore', category=UserWarning)\n",
        "\n",
        "from tqdm import tqdm\n",
        "from mmdet.apis import *\n",
        "\n",
        "# Setup a checkpoint file to load\n",
        "m1_checkpoint = '../experiments/quadrant_codetr/latest.pth'\n",
        "m1_configpath = '../experiments/quadrant_codetr/co_dino_5scale_r50_1x_coco_quadrant.py'\n",
        "\n",
        "model1 = init_detector(m1_configpath, m1_checkpoint)\n",
        "\n",
        "m2_checkpoint = '../experiments/enumeration_codetr_ver2/latest.pth'\n",
        "m2_configpath = '../experiments/enumeration_codetr_ver2/co_dino_5scale_r50_1x_coco_enumeration.py'\n",
        "\n",
        "model2 = init_detector(m2_configpath, m2_checkpoint)"
      ]
    },
    {
      "cell_type": "code",
      "execution_count": 9,
      "metadata": {
        "id": "QOdwSf-FC990"
      },
      "outputs": [
        {
          "data": {
            "text/plain": [
              "705"
            ]
          },
          "execution_count": 9,
          "metadata": {},
          "output_type": "execute_result"
        }
      ],
      "source": [
        "# we read images in our third dataset here\n",
        "\n",
        "image_filepath = \"/raid/infolab/bhavyakohli/mmdet/mmdetection/data/training_data/quadrant-enumeration-disease/xrays/\"     #where images are stored\n",
        "images = [image_filepath+imageinfo['file_name'] for imageinfo in f['images']]\n",
        "len(images)"
      ]
    },
    {
      "cell_type": "code",
      "execution_count": 13,
      "metadata": {
        "id": "0oqEEISoDAfg"
      },
      "outputs": [],
      "source": [
        "# obtain results by running model1 on the images read in the previous block\n",
        "# KOHLI NOTE: I'm assuming quad_results contains one singular bbox and not\n",
        "# the entire possibility thing you had mentioned,\n",
        "# please ensure that's done here or at the spot I'm indicating in the next block\n",
        "\n",
        "# results had topleft_x, topleft_y, bottomright_x, bottomright_y, category of quadrant\n",
        "\n",
        "quad_results = []\n",
        "for imagepath in tqdm(images):\n",
        "    result = inference_detector(model1, imagepath)\n",
        "    result = [r[0][:-1] for r in result]\n",
        "    quad_results.append(result)\n",
        "\n",
        "# quad_results = model1(images)[\"some subset\"]"
      ]
    },
    {
      "cell_type": "code",
      "execution_count": 21,
      "metadata": {
        "id": "Ugx82KQUEsaY"
      },
      "outputs": [
        {
          "name": "stderr",
          "output_type": "stream",
          "text": [
            "100%|██████████| 705/705 [01:26<00:00,  8.17it/s]\n"
          ]
        }
      ],
      "source": [
        "# time for patch extraction\n",
        "\n",
        "qlocation = \"/raid/infolab/bhavyakohli/mmdet/mmdetection/data/training_data/quadrant-enumeration-disease/qpatches/\"        # where to store patches\n",
        "os.makedirs(qlocation, exist_ok=True)\n",
        "qimagenames = []      # this will contain image names (WITHOUT the directory part)\n",
        "for i in tqdm(range(len(images))):\n",
        "    photo = cv2.imread(images[i])\n",
        "    patches = [0,0,0,0]\n",
        "    result = quad_results[i]\n",
        "    for j in range(4):\n",
        "        x_min, y_min, x_max, y_max, cat = *result[j], j       # KOHLI NOTE: This is the second spot that I was talking about\n",
        "        # adjust for category mismatch in data\n",
        "        if cat==0:\n",
        "            cat=1\n",
        "        elif cat==1:\n",
        "            cat=0\n",
        "        # patch extraction and flipping\n",
        "        x_min, y_min, x_max, y_max = int(x_min), int(y_min), int(x_max), int(y_max)\n",
        "        patch = photo[y_min:y_max, x_min:x_max]\n",
        "        if cat == 1 or cat == 2:\n",
        "            patch = cv2.flip(patch, 1)\n",
        "        if cat == 2 or cat == 3:\n",
        "            patch = cv2.flip(patch, 0)\n",
        "        # saving the patch\n",
        "        filename = f\"patch_{i}_{cat}.png\"      # amru wants image_id format, hence the i in the file name\n",
        "        patches[cat] = filename\n",
        "        cv2.imwrite(qlocation+filename, patch)\n",
        "    qimagenames += patches"
      ]
    },
    {
      "cell_type": "markdown",
      "metadata": {
        "id": "yQUgaj-lIinw"
      },
      "source": [
        "# Run through M2"
      ]
    },
    {
      "cell_type": "code",
      "execution_count": 25,
      "metadata": {
        "id": "qeHVVKBFZX1R"
      },
      "outputs": [
        {
          "name": "stderr",
          "output_type": "stream",
          "text": [
            "100%|██████████| 2820/2820 [09:41<00:00,  4.85it/s]\n"
          ]
        }
      ],
      "source": [
        "# creating a full address to the images and running them through model2\n",
        "# KOHLI NOTE: Same assumption as before, will highlight the second\n",
        "# possible spot in the next block, make those changes if required\n",
        "\n",
        "qimages = [qlocation+name for name in qimagenames]\n",
        "\n",
        "enumresults = []\n",
        "for qimagepath in tqdm(qimages):\n",
        "    result = inference_detector(model2, qimagepath)\n",
        "    result = [r[0][:-1] for r in result]\n",
        "    enumresults.append(result)"
      ]
    },
    {
      "cell_type": "code",
      "execution_count": 37,
      "metadata": {},
      "outputs": [
        {
          "data": {
            "text/plain": [
              "[array([670.7224  ,  79.786156, 770.6734  , 411.48807 ], dtype=float32),\n",
              " array([583.12665 ,  36.521454, 688.2596  , 400.9741  ], dtype=float32),\n",
              " array([490.51907 ,  24.133528, 607.20654 , 408.92926 ], dtype=float32),\n",
              " array([414.8592 ,  43.59919, 534.826  , 388.38278], dtype=float32),\n",
              " array([349.67078 ,  34.495018, 482.59744 , 374.0385  ], dtype=float32),\n",
              " array([131.31407 ,  20.695469, 270.5533  , 335.79468 ], dtype=float32),\n",
              " array([131.31407 ,  20.695469, 270.5533  , 335.79468 ], dtype=float32),\n",
              " array([131.31407 ,  20.695469, 270.5533  , 335.79468 ], dtype=float32)]"
            ]
          },
          "execution_count": 37,
          "metadata": {},
          "output_type": "execute_result"
        }
      ],
      "source": [
        "enumresults[8]"
      ]
    },
    {
      "cell_type": "code",
      "execution_count": 41,
      "metadata": {},
      "outputs": [
        {
          "data": {
            "text/plain": [
              "'3'"
            ]
          },
          "execution_count": 41,
          "metadata": {},
          "output_type": "execute_result"
        }
      ],
      "source": [
        "cat1"
      ]
    },
    {
      "cell_type": "code",
      "execution_count": 45,
      "metadata": {
        "id": "6HV3poJHIR2m"
      },
      "outputs": [
        {
          "name": "stderr",
          "output_type": "stream",
          "text": [
            "  0%|          | 4/2820 [00:20<3:57:33,  5.06s/it]\n"
          ]
        },
        {
          "ename": "KeyboardInterrupt",
          "evalue": "",
          "output_type": "error",
          "traceback": [
            "\u001b[0;31m---------------------------------------------------------------------------\u001b[0m",
            "\u001b[0;31mKeyboardInterrupt\u001b[0m                         Traceback (most recent call last)",
            "\u001b[0;32m/tmp/ipykernel_1766641/1286946110.py\u001b[0m in \u001b[0;36m<module>\u001b[0;34m\u001b[0m\n\u001b[1;32m     36\u001b[0m \u001b[0;34m\u001b[0m\u001b[0m\n\u001b[1;32m     37\u001b[0m         \u001b[0;32mwhile\u001b[0m \u001b[0mannos\u001b[0m\u001b[0;34m.\u001b[0m\u001b[0miloc\u001b[0m\u001b[0;34m[\u001b[0m\u001b[0mk\u001b[0m\u001b[0;34m]\u001b[0m\u001b[0;34m[\u001b[0m\u001b[0;34m'image_id'\u001b[0m\u001b[0;34m]\u001b[0m \u001b[0;34m==\u001b[0m \u001b[0mid\u001b[0m\u001b[0;34m:\u001b[0m\u001b[0;34m\u001b[0m\u001b[0;34m\u001b[0m\u001b[0m\n\u001b[0;32m---> 38\u001b[0;31m             \u001b[0;32mwhile\u001b[0m \u001b[0mannos\u001b[0m\u001b[0;34m.\u001b[0m\u001b[0miloc\u001b[0m\u001b[0;34m[\u001b[0m\u001b[0mk\u001b[0m\u001b[0;34m]\u001b[0m\u001b[0;34m[\u001b[0m\u001b[0;34m'category_id_1'\u001b[0m\u001b[0;34m]\u001b[0m \u001b[0;34m==\u001b[0m \u001b[0mcat1\u001b[0m\u001b[0;34m:\u001b[0m\u001b[0;34m\u001b[0m\u001b[0;34m\u001b[0m\u001b[0m\n\u001b[0m\u001b[1;32m     39\u001b[0m                 \u001b[0;32mif\u001b[0m \u001b[0mannos\u001b[0m\u001b[0;34m.\u001b[0m\u001b[0miloc\u001b[0m\u001b[0;34m[\u001b[0m\u001b[0mk\u001b[0m\u001b[0;34m]\u001b[0m\u001b[0;34m[\u001b[0m\u001b[0;34m'category_id_2'\u001b[0m\u001b[0;34m]\u001b[0m \u001b[0;34m==\u001b[0m \u001b[0mcat2\u001b[0m\u001b[0;34m:\u001b[0m\u001b[0;34m\u001b[0m\u001b[0;34m\u001b[0m\u001b[0m\n\u001b[1;32m     40\u001b[0m                     \u001b[0mcat3\u001b[0m \u001b[0;34m=\u001b[0m \u001b[0mannos\u001b[0m\u001b[0;34m.\u001b[0m\u001b[0miloc\u001b[0m\u001b[0;34m[\u001b[0m\u001b[0mk\u001b[0m\u001b[0;34m]\u001b[0m\u001b[0;34m[\u001b[0m\u001b[0;34m'category_id_3'\u001b[0m\u001b[0;34m]\u001b[0m\u001b[0;34m\u001b[0m\u001b[0;34m\u001b[0m\u001b[0m\n",
            "\u001b[0;32m~/miniconda3/envs/work/lib/python3.7/site-packages/pandas/core/indexing.py\u001b[0m in \u001b[0;36m__getitem__\u001b[0;34m(self, key)\u001b[0m\n\u001b[1;32m    929\u001b[0m \u001b[0;34m\u001b[0m\u001b[0m\n\u001b[1;32m    930\u001b[0m             \u001b[0mmaybe_callable\u001b[0m \u001b[0;34m=\u001b[0m \u001b[0mcom\u001b[0m\u001b[0;34m.\u001b[0m\u001b[0mapply_if_callable\u001b[0m\u001b[0;34m(\u001b[0m\u001b[0mkey\u001b[0m\u001b[0;34m,\u001b[0m \u001b[0mself\u001b[0m\u001b[0;34m.\u001b[0m\u001b[0mobj\u001b[0m\u001b[0;34m)\u001b[0m\u001b[0;34m\u001b[0m\u001b[0;34m\u001b[0m\u001b[0m\n\u001b[0;32m--> 931\u001b[0;31m             \u001b[0;32mreturn\u001b[0m \u001b[0mself\u001b[0m\u001b[0;34m.\u001b[0m\u001b[0m_getitem_axis\u001b[0m\u001b[0;34m(\u001b[0m\u001b[0mmaybe_callable\u001b[0m\u001b[0;34m,\u001b[0m \u001b[0maxis\u001b[0m\u001b[0;34m=\u001b[0m\u001b[0maxis\u001b[0m\u001b[0;34m)\u001b[0m\u001b[0;34m\u001b[0m\u001b[0;34m\u001b[0m\u001b[0m\n\u001b[0m\u001b[1;32m    932\u001b[0m \u001b[0;34m\u001b[0m\u001b[0m\n\u001b[1;32m    933\u001b[0m     \u001b[0;32mdef\u001b[0m \u001b[0m_is_scalar_access\u001b[0m\u001b[0;34m(\u001b[0m\u001b[0mself\u001b[0m\u001b[0;34m,\u001b[0m \u001b[0mkey\u001b[0m\u001b[0;34m:\u001b[0m \u001b[0mtuple\u001b[0m\u001b[0;34m)\u001b[0m\u001b[0;34m:\u001b[0m\u001b[0;34m\u001b[0m\u001b[0;34m\u001b[0m\u001b[0m\n",
            "\u001b[0;32m~/miniconda3/envs/work/lib/python3.7/site-packages/pandas/core/indexing.py\u001b[0m in \u001b[0;36m_getitem_axis\u001b[0;34m(self, key, axis)\u001b[0m\n\u001b[1;32m   1566\u001b[0m             \u001b[0mself\u001b[0m\u001b[0;34m.\u001b[0m\u001b[0m_validate_integer\u001b[0m\u001b[0;34m(\u001b[0m\u001b[0mkey\u001b[0m\u001b[0;34m,\u001b[0m \u001b[0maxis\u001b[0m\u001b[0;34m)\u001b[0m\u001b[0;34m\u001b[0m\u001b[0;34m\u001b[0m\u001b[0m\n\u001b[1;32m   1567\u001b[0m \u001b[0;34m\u001b[0m\u001b[0m\n\u001b[0;32m-> 1568\u001b[0;31m             \u001b[0;32mreturn\u001b[0m \u001b[0mself\u001b[0m\u001b[0;34m.\u001b[0m\u001b[0mobj\u001b[0m\u001b[0;34m.\u001b[0m\u001b[0m_ixs\u001b[0m\u001b[0;34m(\u001b[0m\u001b[0mkey\u001b[0m\u001b[0;34m,\u001b[0m \u001b[0maxis\u001b[0m\u001b[0;34m=\u001b[0m\u001b[0maxis\u001b[0m\u001b[0;34m)\u001b[0m\u001b[0;34m\u001b[0m\u001b[0;34m\u001b[0m\u001b[0m\n\u001b[0m\u001b[1;32m   1569\u001b[0m \u001b[0;34m\u001b[0m\u001b[0m\n\u001b[1;32m   1570\u001b[0m     \u001b[0;32mdef\u001b[0m \u001b[0m_get_slice_axis\u001b[0m\u001b[0;34m(\u001b[0m\u001b[0mself\u001b[0m\u001b[0;34m,\u001b[0m \u001b[0mslice_obj\u001b[0m\u001b[0;34m:\u001b[0m \u001b[0mslice\u001b[0m\u001b[0;34m,\u001b[0m \u001b[0maxis\u001b[0m\u001b[0;34m:\u001b[0m \u001b[0mint\u001b[0m\u001b[0;34m)\u001b[0m\u001b[0;34m:\u001b[0m\u001b[0;34m\u001b[0m\u001b[0;34m\u001b[0m\u001b[0m\n",
            "\u001b[0;32m~/miniconda3/envs/work/lib/python3.7/site-packages/pandas/core/frame.py\u001b[0m in \u001b[0;36m_ixs\u001b[0;34m(self, i, axis)\u001b[0m\n\u001b[1;32m   3385\u001b[0m                 \u001b[0mindex\u001b[0m\u001b[0;34m=\u001b[0m\u001b[0mself\u001b[0m\u001b[0;34m.\u001b[0m\u001b[0mcolumns\u001b[0m\u001b[0;34m,\u001b[0m\u001b[0;34m\u001b[0m\u001b[0;34m\u001b[0m\u001b[0m\n\u001b[1;32m   3386\u001b[0m                 \u001b[0mname\u001b[0m\u001b[0;34m=\u001b[0m\u001b[0mself\u001b[0m\u001b[0;34m.\u001b[0m\u001b[0mindex\u001b[0m\u001b[0;34m[\u001b[0m\u001b[0mi\u001b[0m\u001b[0;34m]\u001b[0m\u001b[0;34m,\u001b[0m\u001b[0;34m\u001b[0m\u001b[0;34m\u001b[0m\u001b[0m\n\u001b[0;32m-> 3387\u001b[0;31m                 \u001b[0mdtype\u001b[0m\u001b[0;34m=\u001b[0m\u001b[0mnew_values\u001b[0m\u001b[0;34m.\u001b[0m\u001b[0mdtype\u001b[0m\u001b[0;34m,\u001b[0m\u001b[0;34m\u001b[0m\u001b[0;34m\u001b[0m\u001b[0m\n\u001b[0m\u001b[1;32m   3388\u001b[0m             )\n\u001b[1;32m   3389\u001b[0m             \u001b[0mresult\u001b[0m\u001b[0;34m.\u001b[0m\u001b[0m_set_is_copy\u001b[0m\u001b[0;34m(\u001b[0m\u001b[0mself\u001b[0m\u001b[0;34m,\u001b[0m \u001b[0mcopy\u001b[0m\u001b[0;34m=\u001b[0m\u001b[0mcopy\u001b[0m\u001b[0;34m)\u001b[0m\u001b[0;34m\u001b[0m\u001b[0;34m\u001b[0m\u001b[0m\n",
            "\u001b[0;32m~/miniconda3/envs/work/lib/python3.7/site-packages/pandas/core/series.py\u001b[0m in \u001b[0;36m__init__\u001b[0;34m(self, data, index, dtype, name, copy, fastpath)\u001b[0m\n\u001b[1;32m    437\u001b[0m                     \u001b[0mdata\u001b[0m \u001b[0;34m=\u001b[0m \u001b[0mdata\u001b[0m\u001b[0;34m.\u001b[0m\u001b[0mcopy\u001b[0m\u001b[0;34m(\u001b[0m\u001b[0;34m)\u001b[0m\u001b[0;34m\u001b[0m\u001b[0;34m\u001b[0m\u001b[0m\n\u001b[1;32m    438\u001b[0m             \u001b[0;32melse\u001b[0m\u001b[0;34m:\u001b[0m\u001b[0;34m\u001b[0m\u001b[0;34m\u001b[0m\u001b[0m\n\u001b[0;32m--> 439\u001b[0;31m                 \u001b[0mdata\u001b[0m \u001b[0;34m=\u001b[0m \u001b[0msanitize_array\u001b[0m\u001b[0;34m(\u001b[0m\u001b[0mdata\u001b[0m\u001b[0;34m,\u001b[0m \u001b[0mindex\u001b[0m\u001b[0;34m,\u001b[0m \u001b[0mdtype\u001b[0m\u001b[0;34m,\u001b[0m \u001b[0mcopy\u001b[0m\u001b[0;34m)\u001b[0m\u001b[0;34m\u001b[0m\u001b[0;34m\u001b[0m\u001b[0m\n\u001b[0m\u001b[1;32m    440\u001b[0m \u001b[0;34m\u001b[0m\u001b[0m\n\u001b[1;32m    441\u001b[0m                 \u001b[0mmanager\u001b[0m \u001b[0;34m=\u001b[0m \u001b[0mget_option\u001b[0m\u001b[0;34m(\u001b[0m\u001b[0;34m\"mode.data_manager\"\u001b[0m\u001b[0;34m)\u001b[0m\u001b[0;34m\u001b[0m\u001b[0;34m\u001b[0m\u001b[0m\n",
            "\u001b[0;32m~/miniconda3/envs/work/lib/python3.7/site-packages/pandas/core/construction.py\u001b[0m in \u001b[0;36msanitize_array\u001b[0;34m(data, index, dtype, copy, raise_cast_failure, allow_2d)\u001b[0m\n\u001b[1;32m    500\u001b[0m     \u001b[0mdata\u001b[0m \u001b[0;34m=\u001b[0m \u001b[0mextract_array\u001b[0m\u001b[0;34m(\u001b[0m\u001b[0mdata\u001b[0m\u001b[0;34m,\u001b[0m \u001b[0mextract_numpy\u001b[0m\u001b[0;34m=\u001b[0m\u001b[0;32mTrue\u001b[0m\u001b[0;34m)\u001b[0m\u001b[0;34m\u001b[0m\u001b[0;34m\u001b[0m\u001b[0m\n\u001b[1;32m    501\u001b[0m \u001b[0;34m\u001b[0m\u001b[0m\n\u001b[0;32m--> 502\u001b[0;31m     \u001b[0;32mif\u001b[0m \u001b[0misinstance\u001b[0m\u001b[0;34m(\u001b[0m\u001b[0mdata\u001b[0m\u001b[0;34m,\u001b[0m \u001b[0mnp\u001b[0m\u001b[0;34m.\u001b[0m\u001b[0mndarray\u001b[0m\u001b[0;34m)\u001b[0m \u001b[0;32mand\u001b[0m \u001b[0mdata\u001b[0m\u001b[0;34m.\u001b[0m\u001b[0mndim\u001b[0m \u001b[0;34m==\u001b[0m \u001b[0;36m0\u001b[0m\u001b[0;34m:\u001b[0m\u001b[0;34m\u001b[0m\u001b[0;34m\u001b[0m\u001b[0m\n\u001b[0m\u001b[1;32m    503\u001b[0m         \u001b[0;32mif\u001b[0m \u001b[0mdtype\u001b[0m \u001b[0;32mis\u001b[0m \u001b[0;32mNone\u001b[0m\u001b[0;34m:\u001b[0m\u001b[0;34m\u001b[0m\u001b[0;34m\u001b[0m\u001b[0m\n\u001b[1;32m    504\u001b[0m             \u001b[0mdtype\u001b[0m \u001b[0;34m=\u001b[0m \u001b[0mdata\u001b[0m\u001b[0;34m.\u001b[0m\u001b[0mdtype\u001b[0m\u001b[0;34m\u001b[0m\u001b[0;34m\u001b[0m\u001b[0m\n",
            "\u001b[0;31mKeyboardInterrupt\u001b[0m: "
          ]
        }
      ],
      "source": [
        "# tooth patch extraction, pretty straightforward\n",
        "# iterating over the annos dataframe to check if the given tooth\n",
        "# has a category associated to it, if not, given cat3 = 4 (normal)\n",
        "\n",
        "toothlocation = \"/raid/infolab/bhavyakohli/mmdet/mmdetection/data/training_data/quadrant-enumeration-disease/tpatches/\"        # where to store patches of teeth\n",
        "os.makedirs(toothlocation, exist_ok=True)\n",
        "\n",
        "k=0                       # move through annos\n",
        "m = annos.shape[0]\n",
        "patch_size = (380, 550)   # width, height\n",
        "\n",
        "for i in tqdm(range(len(qimages))):\n",
        "    photo = cv2.imread(qimages[i])\n",
        "    name = qimagenames[i]\n",
        "    id, cat1 = [int(i) for i in name[6:-4].split('_')]\n",
        "\n",
        "    for j, result in enumerate(enumresults[i]):\n",
        "        x_min, y_min, x_max, y_max, cat2 = *result, j            # KOHLI NOTE: Second spot\n",
        "        x_min, y_min, x_max, y_max = int(x_min), int(y_min), int(x_max), int(y_max)\n",
        "        patch = photo[y_min:y_max, x_min:x_max]\n",
        "        height = y_max - y_min\n",
        "        width = x_max - x_min\n",
        "\n",
        "        # Resize patch [image may be bigger than given patch_size :(]\n",
        "        toppad, bottompad, leftpad, rightpad = [0,0,0,0]\n",
        "        if height < patch_size[1]:\n",
        "            toppad = int((patch_size[1] - height)/2)\n",
        "            bottompad = int(patch_size[1] - height - toppad)\n",
        "        if width < patch_size[0]:\n",
        "            leftpad = int((patch_size[0] - width)/2)\n",
        "            rightpad = int(patch_size[0] - width - leftpad)\n",
        "        patch = cv2.copyMakeBorder(\n",
        "                patch, toppad, bottompad, leftpad, rightpad,\n",
        "                cv2.BORDER_CONSTANT, value=[0,0,0])\n",
        "        patch = cv2.resize(patch, patch_size, interpolation = cv2.INTER_AREA)\n",
        "\n",
        "        while annos.iloc[k]['image_id'] == id:\n",
        "            while annos.iloc[k]['category_id_1'] == cat1:\n",
        "                if annos.iloc[k]['category_id_2'] == cat2:\n",
        "                    cat3 = annos.iloc[k]['category_id_3']\n",
        "                    filename = toothlocation + f\"patch_{id}_{cat1}_{cat2}_{cat3}.png\"\n",
        "                    cv2.imwrite(filename, patch)\n",
        "                    k += 1\n",
        "                    if k==m:\n",
        "                        break\n",
        "                else:\n",
        "                    cat3 = 4\n",
        "                    filename = toothlocation + f\"patch_{id}_{cat1}_{cat2}_{cat3}.png\"\n",
        "                    cv2.imwrite(filename, patch)\n",
        "                    k += 1\n",
        "                    if k==m:\n",
        "                        break"
      ]
    },
    {
      "cell_type": "code",
      "execution_count": null,
      "metadata": {
        "colab": {
          "base_uri": "https://localhost:8080/"
        },
        "id": "kfi0BsLqTq_D",
        "outputId": "5609cfbc-61a3-4c4b-e224-ef797dd82b9c"
      },
      "outputs": [
        {
          "data": {
            "text/plain": [
              "['234', '5']"
            ]
          },
          "execution_count": 14,
          "metadata": {},
          "output_type": "execute_result"
        }
      ],
      "source": [
        "# strd = \"patch_234_5.png\"\n",
        "# strd[6:-4].split('_')"
      ]
    }
  ],
  "metadata": {
    "colab": {
      "collapsed_sections": [
        "jD3w_sx7SoJe"
      ],
      "provenance": []
    },
    "kernelspec": {
      "display_name": "Python 3",
      "name": "python3"
    },
    "language_info": {
      "codemirror_mode": {
        "name": "ipython",
        "version": 3
      },
      "file_extension": ".py",
      "mimetype": "text/x-python",
      "name": "python",
      "nbconvert_exporter": "python",
      "pygments_lexer": "ipython3",
      "version": "3.7.11"
    }
  },
  "nbformat": 4,
  "nbformat_minor": 0
}
