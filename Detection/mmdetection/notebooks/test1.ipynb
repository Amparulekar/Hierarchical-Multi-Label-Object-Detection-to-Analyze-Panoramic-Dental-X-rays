{
 "cells": [
  {
   "cell_type": "code",
   "execution_count": 1,
   "metadata": {},
   "outputs": [],
   "source": [
    "import json"
   ]
  },
  {
   "cell_type": "code",
   "execution_count": 2,
   "metadata": {},
   "outputs": [],
   "source": [
    "f1 = json.load(open('/raid/infolab/bhavyakohli/mmdet/mmdetection/a_tooth/train_quadrant.json', 'r'))\n",
    "f2 = json.load(open('/raid/infolab/bhavyakohli/mmdet/mmdetection/a_tooth/train_quadrant_enumeration.json', 'r'))"
   ]
  },
  {
   "cell_type": "code",
   "execution_count": 3,
   "metadata": {},
   "outputs": [
    {
     "data": {
      "text/plain": [
       "(dict_keys(['images', 'annotations', 'categories']),\n",
       " dict_keys(['images', 'annotations', 'categories_1', 'categories_2']))"
      ]
     },
     "execution_count": 3,
     "metadata": {},
     "output_type": "execute_result"
    }
   ],
   "source": [
    "f1.keys(), f2.keys()"
   ]
  },
  {
   "cell_type": "code",
   "execution_count": 186,
   "metadata": {},
   "outputs": [],
   "source": [
    "from tqdm import tqdm\n",
    "\n",
    "quadrant_centers = {images['file_name']: dict() for images in f1['images']}\n",
    "\n",
    "for i in range(len(f1['annotations'])):\n",
    "    image_name = f1['images'][i//4]['file_name']\n",
    "    annot = f1['annotations'][i]\n",
    "    cat = annot['category_id']\n",
    "\n",
    "    if cat == 1:\n",
    "        cat_ = 0\n",
    "    elif cat == 0:\n",
    "        cat_ = 1\n",
    "    else:\n",
    "        cat_ = cat\n",
    "    \n",
    "    quadrant_centers[image_name][cat_] = annot['bbox'][:2]"
   ]
  },
  {
   "cell_type": "code",
   "execution_count": 190,
   "metadata": {},
   "outputs": [],
   "source": [
    "for k in quadrant_centers.keys():\n",
    "    centers = quadrant_centers[k]\n",
    "\n",
    "    assert centers[0][0] < centers[1][0]"
   ]
  },
  {
   "cell_type": "code",
   "execution_count": 218,
   "metadata": {},
   "outputs": [],
   "source": [
    "from copy import deepcopy\n",
    "f2_new = deepcopy(f2)"
   ]
  },
  {
   "cell_type": "code",
   "execution_count": 219,
   "metadata": {},
   "outputs": [],
   "source": [
    "annots_to_be_deleted = []\n",
    "images_to_be_deleted = []\n",
    "issues = []\n",
    "for i in range(len(f2['annotations'])):\n",
    "    annot, new_annot = f2['annotations'][i], f2_new['annotations'][i]\n",
    "    image_id = annot['image_id'] - 1\n",
    "    file_name = f2['images'][image_id]['file_name']\n",
    "    try:\n",
    "        centers = quadrant_centers[file_name]\n",
    "    except KeyError:\n",
    "        images_to_be_deleted.append(image_id)\n",
    "        annots_to_be_deleted.append(i)\n",
    "        continue\n",
    "\n",
    "    x, y, h, w = annot['bbox']\n",
    "    xx, yy = centers[annot['category_id_1']]\n",
    "    nx, ny = [x - xx, y - yy]\n",
    "\n",
    "    if nx < 0 or ny < 0:\n",
    "        issues.append(file_name)\n",
    "\n",
    "    new_annot['bbox'] = [max(nx,0), max(ny,0), h, w]\n",
    "    \n",
    "    new_annot['category_id'] = new_annot['category_id_2']\n",
    "\n",
    "    del new_annot['category_id_1']\n",
    "    del new_annot['category_id_2']"
   ]
  },
  {
   "cell_type": "code",
   "execution_count": 173,
   "metadata": {},
   "outputs": [
    {
     "name": "stdout",
     "output_type": "stream",
     "text": [
      "{'iscrowd': 0, 'image_id': 1, 'bbox': [1453.9245283018868, 332.2452830188679, 624.5283018867922, 467.92452830188677], 'segmentation': [[1474, 800, 1453, 473, 1931, 332, 2078, 539, 1789, 728]], 'category_id': 0, 'id': 1, 'area': 180569}\n",
      "{'iscrowd': 0, 'image_id': 1, 'bbox': [918.0754716981131, 356.7735849056603, 556.6037735849058, 450.9433962264152], 'segmentation': [[1452, 458, 1474, 807, 1263, 764, 918, 592, 1036, 356]], 'category_id': 1, 'id': 2, 'area': 160363}\n",
      "{'iscrowd': 0, 'image_id': 1, 'bbox': [1506.754716981132, 505.8301886792452, 733.9622641509434, 632.0754716981131], 'segmentation': [[1506, 805, 1533, 1137, 2240, 803, 2110, 505, 1742, 743]], 'category_id': 2, 'id': 3, 'area': 214834}\n",
      "{'iscrowd': 0, 'image_id': 1, 'bbox': [733.1698113207547, 541.6792452830189, 792.4528301886792, 611.3207547169811], 'segmentation': [[1510, 796, 1525, 1153, 1144, 1081, 733, 809, 910, 541, 1287, 756]], 'category_id': 3, 'id': 4, 'area': 262232}\n"
     ]
    }
   ],
   "source": [
    "for i in range(4):\n",
    "    print(f1['annotations'][i]) "
   ]
  },
  {
   "cell_type": "code",
   "execution_count": 213,
   "metadata": {},
   "outputs": [
    {
     "data": {
      "text/plain": [
       "1441.090909090909"
      ]
     },
     "execution_count": 213,
     "metadata": {},
     "output_type": "execute_result"
    }
   ],
   "source": [
    "x"
   ]
  },
  {
   "cell_type": "code",
   "execution_count": 211,
   "metadata": {},
   "outputs": [
    {
     "data": {
      "text/plain": [
       "{0: [596.9811320754717, 13.660377358490564],\n",
       " 1: [1525.2830188679245, 11.773584905660357],\n",
       " 2: [1500.754716981132, 404.2264150943396],\n",
       " 3: [625.2830188679245, 402.33962264150944]}"
      ]
     },
     "execution_count": 211,
     "metadata": {},
     "output_type": "execute_result"
    }
   ],
   "source": [
    "centers"
   ]
  },
  {
   "cell_type": "code",
   "execution_count": 215,
   "metadata": {},
   "outputs": [
    {
     "name": "stdout",
     "output_type": "stream",
     "text": [
      "{'iscrowd': 0, 'image_id': 3, 'bbox': [1444.7272727272725, 667.5454545454545, 70.90909090909099, 281.81818181818176], 'segmentation': [[1453, 671, 1501, 667, 1506, 732, 1515, 949, 1444, 943, 1446, 703]], 'id': 69, 'area': 17517, 'category_id_1': 2, 'category_id_2': 0}\n",
      "{'iscrowd': 0, 'image_id': 3, 'bbox': [1499.2727272727273, 658.4545454545454, 83.63636363636351, 310.9090909090909], 'segmentation': [[1504, 740, 1499, 660, 1582, 658, 1564, 752, 1566, 967, 1522, 969]], 'id': 70, 'area': 17742, 'category_id_1': 2, 'category_id_2': 1}\n",
      "{'iscrowd': 0, 'image_id': 3, 'bbox': [1553.8181818181818, 662.090909090909, 110.90909090909076, 361.81818181818176], 'segmentation': [[1571, 789, 1553, 676, 1577, 662, 1631, 669, 1646, 718, 1664, 1003, 1617, 1023]], 'id': 71, 'area': 24583, 'category_id_1': 2, 'category_id_2': 2}\n",
      "{'iscrowd': 0, 'image_id': 3, 'bbox': [1639.2727272727273, 652.9999999999999, 107.27272727272725, 347.27272727272737], 'segmentation': [[1666, 783, 1644, 725, 1639, 698, 1668, 652, 1701, 654, 1724, 692, 1721, 780, 1746, 987, 1708, 1000]], 'id': 72, 'area': 18800, 'category_id_1': 2, 'category_id_2': 3}\n",
      "{'iscrowd': 0, 'image_id': 3, 'bbox': [1691.9999999999998, 643.9090909090909, 152.72727272727275, 343.6363636363636], 'segmentation': [[1730, 785, 1706, 731, 1691, 689, 1691, 656, 1724, 643, 1770, 660, 1786, 671, 1795, 738, 1844, 978, 1822, 987, 1790, 971]], 'id': 73, 'area': 24099, 'category_id_1': 2, 'category_id_2': 4}\n",
      "{'iscrowd': 0, 'image_id': 3, 'bbox': [1762.9090909090908, 605.7272727272726, 250.909090909091, 354.5454545454546], 'segmentation': [[1815, 740, 1784, 689, 1762, 652, 1773, 623, 1813, 618, 1839, 629, 1879, 605, 1910, 625, 1937, 658, 1933, 698, 1937, 731, 2013, 943, 1946, 960, 1844, 860, 1824, 791]], 'id': 74, 'area': 43917, 'category_id_1': 2, 'category_id_2': 5}\n",
      "{'iscrowd': 0, 'image_id': 3, 'bbox': [1891.9999999999998, 609.3636363636363, 325.4545454545457, 301.81818181818176], 'segmentation': [[1959, 751, 1921, 736, 1906, 705, 1891, 676, 1893, 649, 1937, 616, 1986, 611, 2026, 609, 2059, 618, 2081, 667, 2088, 709, 2217, 878, 2093, 911, 2008, 813]], 'id': 75, 'area': 46652, 'category_id_1': 2, 'category_id_2': 6}\n",
      "{'iscrowd': 0, 'image_id': 3, 'bbox': [2044.7272727272725, 569.3636363636363, 261.818181818182, 250.909090909091], 'segmentation': [[2095, 712, 2072, 691, 2044, 658, 2046, 622, 2052, 603, 2106, 583, 2161, 569, 2179, 583, 2195, 609, 2204, 638, 2306, 736, 2248, 820, 2172, 785, 2130, 758]], 'id': 76, 'area': 35034, 'category_id_1': 2, 'category_id_2': 7}\n"
     ]
    }
   ],
   "source": [
    "for i in range(200):\n",
    "    if f2['annotations'][i]['image_id'] == 3:    \n",
    "        if f2['annotations'][i]['category_id_1'] == 2:\n",
    "            print(f2['annotations'][i]) "
   ]
  },
  {
   "cell_type": "code",
   "execution_count": 183,
   "metadata": {},
   "outputs": [
    {
     "name": "stdout",
     "output_type": "stream",
     "text": [
      "[1386.1891891891892, 400.7297297297297, 70.2702702702702, 286.48648648648657]\n",
      "[1432.1351351351352, 381.81081081081084, 86.48648648648646, 278.37837837837833]\n",
      "[1499.7027027027027, 365.5945945945946, 78.37837837837833, 305.4054054054054]\n",
      "[1572.6756756756756, 362.8918918918919, 86.48648648648646, 272.972972972973]\n",
      "[1621.3243243243244, 365.5945945945946, 124.32432432432438, 270.2702702702703]\n",
      "[1705.1081081081081, 330.4594594594595, 148.64864864864876, 262.1621621621622]\n",
      "[1791.5945945945946, 271.0, 200.0, 264.8648648648649]\n"
     ]
    }
   ],
   "source": [
    "for i in range(27,50,1):\n",
    "    if f2['annotations'][i]['category_id_1'] == 1:\n",
    "        print(f2['annotations'][i]['bbox']) "
   ]
  },
  {
   "cell_type": "code",
   "execution_count": null,
   "metadata": {},
   "outputs": [],
   "source": [
    "\"height\": 1316, \"width\": 2788"
   ]
  },
  {
   "cell_type": "code",
   "execution_count": 180,
   "metadata": {},
   "outputs": [
    {
     "data": {
      "text/plain": [
       "{1: [459.25, 235.25],\n",
       " 0: [958.0, 216.5],\n",
       " 2: [968.0, 420.25],\n",
       " 3: [411.75, 435.25]}"
      ]
     },
     "execution_count": 180,
     "metadata": {},
     "output_type": "execute_result"
    }
   ],
   "source": [
    "quadrant_centers['train_435.png']"
   ]
  },
  {
   "cell_type": "code",
   "execution_count": 161,
   "metadata": {},
   "outputs": [
    {
     "data": {
      "text/plain": [
       "{0: [1466.7272727272727, 232.96969696969688],\n",
       " 1: [772.7878787878788, 287.5151515151515],\n",
       " 2: [1472.7878787878788, 502.6666666666665],\n",
       " 3: [612.1818181818181, 499.6363636363635]}"
      ]
     },
     "execution_count": 161,
     "metadata": {},
     "output_type": "execute_result"
    }
   ],
   "source": [
    "quadrant_centers['train_436.png']"
   ]
  },
  {
   "cell_type": "code",
   "execution_count": 220,
   "metadata": {},
   "outputs": [],
   "source": [
    "for i in range(len(annots_to_be_deleted)):\n",
    "    tbd = annots_to_be_deleted[i]\n",
    "    del f2_new['annotations'][tbd]\n",
    "    annots_to_be_deleted = [j-1 for j in annots_to_be_deleted]\n",
    "\n",
    "for itbd in set(images_to_be_deleted):\n",
    "    del f2_new['images'][itbd]"
   ]
  },
  {
   "cell_type": "code",
   "execution_count": 154,
   "metadata": {},
   "outputs": [],
   "source": [
    "f2_new['categories'] = f2_new['categories_2']\n",
    "\n",
    "del f2_new['categories_1']\n",
    "del f2_new['categories_2']"
   ]
  },
  {
   "cell_type": "code",
   "execution_count": 155,
   "metadata": {},
   "outputs": [],
   "source": [
    "for i in f2_new['images']:\n",
    "    assert i['file_name'] in quadrant_centers.keys()"
   ]
  },
  {
   "cell_type": "code",
   "execution_count": 156,
   "metadata": {},
   "outputs": [],
   "source": [
    "json.dump(f2_new, open('/raid/infolab/bhavyakohli/mmdet/mmdetection/a_tooth/train_enumeration.json', 'w'))"
   ]
  },
  {
   "cell_type": "code",
   "execution_count": 105,
   "metadata": {},
   "outputs": [
    {
     "data": {
      "text/plain": [
       "{'height': 1316, 'width': 2888, 'id': 3, 'file_name': 'train_95.png'}"
      ]
     },
     "execution_count": 105,
     "metadata": {},
     "output_type": "execute_result"
    }
   ],
   "source": [
    "f2['images'][2]"
   ]
  },
  {
   "cell_type": "code",
   "execution_count": 102,
   "metadata": {},
   "outputs": [
    {
     "data": {
      "text/plain": [
       "{'iscrowd': 0,\n",
       " 'image_id': 3,\n",
       " 'bbox': [1037.4545454545453,\n",
       "  294.81818181818176,\n",
       "  107.27272727272725,\n",
       "  321.81818181818176],\n",
       " 'segmentation': [[1037,\n",
       "   354,\n",
       "   1037,\n",
       "   427,\n",
       "   1048,\n",
       "   500,\n",
       "   1053,\n",
       "   534,\n",
       "   1046,\n",
       "   567,\n",
       "   1046,\n",
       "   592,\n",
       "   1086,\n",
       "   616,\n",
       "   1124,\n",
       "   600,\n",
       "   1144,\n",
       "   572,\n",
       "   1130,\n",
       "   518,\n",
       "   1124,\n",
       "   485,\n",
       "   1086,\n",
       "   294,\n",
       "   1042,\n",
       "   305]],\n",
       " 'id': 61,\n",
       " 'area': 22550,\n",
       " 'category_id_1': 0,\n",
       " 'category_id_2': 4}"
      ]
     },
     "execution_count": 102,
     "metadata": {},
     "output_type": "execute_result"
    }
   ],
   "source": [
    "f2['annotations'][60]"
   ]
  },
  {
   "cell_type": "code",
   "execution_count": null,
   "metadata": {},
   "outputs": [],
   "source": []
  }
 ],
 "metadata": {
  "kernelspec": {
   "display_name": "work",
   "language": "python",
   "name": "python3"
  },
  "language_info": {
   "codemirror_mode": {
    "name": "ipython",
    "version": 3
   },
   "file_extension": ".py",
   "mimetype": "text/x-python",
   "name": "python",
   "nbconvert_exporter": "python",
   "pygments_lexer": "ipython3",
   "version": "3.8.2"
  }
 },
 "nbformat": 4,
 "nbformat_minor": 2
}
