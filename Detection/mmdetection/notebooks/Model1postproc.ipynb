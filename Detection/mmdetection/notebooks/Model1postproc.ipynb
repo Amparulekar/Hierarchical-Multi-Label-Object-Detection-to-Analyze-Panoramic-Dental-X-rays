{
 "cells": [
  {
   "cell_type": "markdown",
   "metadata": {},
   "source": [
    "# Model 1 Post-Processing\n",
    "Contains the notebook for making a json file for the output that we get from Model 1 and preparing it for Model 2 "
   ]
  },
  {
   "cell_type": "code",
   "execution_count": 2,
   "metadata": {},
   "outputs": [
    {
     "data": {
      "text/plain": [
       "dict_keys(['images', 'annotations', 'categories_1', 'categories_2'])"
      ]
     },
     "execution_count": 2,
     "metadata": {},
     "output_type": "execute_result"
    }
   ],
   "source": [
    "import json\n",
    "f1 = json.load(open(\"/raid/infolab/bhavyakohli/mmdet/mmdetection/a_tooth/train_quadrant_enumeration.json\", 'r'))\n",
    "f1.keys()"
   ]
  },
  {
   "cell_type": "markdown",
   "metadata": {},
   "source": [
    "The cell below contains a dry run for the main for loop"
   ]
  },
  {
   "cell_type": "code",
   "execution_count": null,
   "metadata": {},
   "outputs": [],
   "source": [
    "images = []\n",
    "annotation = []\n",
    "new_image_id = 1\n",
    "tooth_id = 1\n",
    "image_name = \"\"\n",
    "image_id -> image id corresponding to image_name\n",
    "result = inference(image_name.png)\n",
    "quadrants = result[\"predictions\"][0][\"bboxes\"]\n",
    "labels = result[\"predictions\"][0][\"labels\"]\n",
    "\n",
    "## Use the extract function to extract the quadrant images using image_id_{quadrant_if}.png\n",
    "for i,quadrant in enumerate(quadrants):\n",
    "    img_Dict ={\"height\": quadrant[3], \"width\": quadrant[2], \"id\": new_image_id, \"file_name\": f\"{image_name}_{i}.png\"}\n",
    "    images.append(img_Dict)\n",
    "    teeth_list = [idx for idx in range(len(f1['annotations'])) if f1['annotations'][idx][\"id\"] == image_id]\n",
    "    for j in teeth_list:\n",
    "        old_tlx, old_tly, w, h = f1[\"annotations\"][j][\"bbox\"]\n",
    "        tlx, tly = old_tlx - quadrant[0], old_tly - quadrant[1]\n",
    "        ano_dict = {\"iscrowd\": 0, \"image_id\": new_image_id, \"bbox\": [tlx, tly, w, h], \"id\": tooth_id, \"area\": w*h, \"category_id_1\": f1[\"annotations\"][j][\"category_id_1\"], \"category_id_2\": f1[\"annotations\"][j][\"category_id_2\"]}\n",
    "        annotation.append(ano_dict)\n",
    "        tooth_id += 1    \n",
    "    new_image_id += 1\n",
    "    "
   ]
  },
  {
   "cell_type": "code",
   "execution_count": null,
   "metadata": {},
   "outputs": [],
   "source": [
    "cat_id_1 = [\n",
    "        {\n",
    "            \"id\": 0,\n",
    "            \"name\": 1,\n",
    "            \"supercategory\": 1\n",
    "        },\n",
    "        {\n",
    "            \"id\": 1,\n",
    "            \"name\": 2,\n",
    "            \"supercategory\": 2\n",
    "        },\n",
    "        {\n",
    "            \"id\": 2,\n",
    "            \"name\": 3,\n",
    "            \"supercategory\": 3\n",
    "        },\n",
    "        {\n",
    "            \"id\": 3,\n",
    "            \"name\": 4,\n",
    "            \"supercategory\": 4\n",
    "        }\n",
    "    ]\n",
    "\n",
    "cat_id_2 = [\n",
    "        {\n",
    "            \"id\": 0,\n",
    "            \"name\": \"1\",\n",
    "            \"supercategory\": \"1\"\n",
    "        },\n",
    "        {\n",
    "            \"id\": 1,\n",
    "            \"name\": \"2\",\n",
    "            \"supercategory\": \"2\"\n",
    "        },\n",
    "        {\n",
    "            \"id\": 2,\n",
    "            \"name\": \"3\",\n",
    "            \"supercategory\": \"3\"\n",
    "        },\n",
    "        {\n",
    "            \"id\": 3,\n",
    "            \"name\": \"4\",\n",
    "            \"supercategory\": \"4\"\n",
    "        },\n",
    "        {\n",
    "            \"id\": 4,\n",
    "            \"name\": \"5\",\n",
    "            \"supercategory\": \"5\"\n",
    "        },\n",
    "        {\n",
    "            \"id\": 5,\n",
    "            \"name\": \"6\",\n",
    "            \"supercategory\": \"6\"\n",
    "        },\n",
    "        {\n",
    "            \"id\": 6,\n",
    "            \"name\": \"7\",\n",
    "            \"supercategory\": \"7\"\n",
    "        },\n",
    "        {\n",
    "            \"id\": 7,\n",
    "            \"name\": \"8\",\n",
    "            \"supercategory\": \"8\"\n",
    "        }\n",
    "    ]"
   ]
  },
  {
   "cell_type": "code",
   "execution_count": null,
   "metadata": {},
   "outputs": [],
   "source": [
    "images = []\n",
    "annotations = []\n",
    "new_image_id = 1\n",
    "tooth_id = 1\n",
    "\n",
    "for image in f1[\"images\"]:\n",
    "    image_name = image[\"file_name\"]\n",
    "    image_id = image[\"id\"]\n",
    "    image_path = f\"/raid/infolab/bhavyakohli/mmdet/mmdetection/data/training_data/quadrant_enumeration/xrays/{image_name}\"\n",
    "    result = inferencer(image_path, output_temp_dir) # to be completed\n",
    "    quadrants = result[\"predictions\"][0][\"bboxes\"]\n",
    "    labels = result[\"predictions\"][0][\"labels\"]\n",
    "    ## Use the extract function to extract the quadrant images using image_id_{quadrant_if}.png\n",
    "    for i,quadrant in enumerate(quadrants):\n",
    "        img_Dict ={\"height\": quadrant[3], \"width\": quadrant[2], \"id\": new_image_id, \"file_name\": f\"{image_name}_{i}.png\"}\n",
    "        images.append(img_Dict)\n",
    "        teeth_list = [idx for idx in range(len(f1['annotations'])) if f1['annotations'][idx][\"id\"] == image_id]\n",
    "        for j in teeth_list:\n",
    "            old_tlx, old_tly, w, h = f1[\"annotations\"][j][\"bbox\"]\n",
    "            tlx, tly = old_tlx - quadrant[0], old_tly - quadrant[1]\n",
    "            ano_dict = {\"iscrowd\": 0, \"image_id\": new_image_id, \"bbox\": [tlx, tly, w, h], \"id\": tooth_id, \"area\": w*h, \"category_id_1\": f1[\"annotations\"][j][\"category_id_1\"], \"category_id_2\": f1[\"annotations\"][j][\"category_id_2\"]}\n",
    "            annotations.append(ano_dict)\n",
    "            tooth_id += 1    \n",
    "        new_image_id += 1"
   ]
  },
  {
   "cell_type": "code",
   "execution_count": null,
   "metadata": {},
   "outputs": [],
   "source": [
    "final_op_dict = {\"images\": images, \"annotation\": annotations, \"categories_1\" : cat_id_1, \"categories_2\": cat_id_2}\n",
    "with open(\"output file path\", 'w') as outfile:\n",
    "    json.dump(final_op_dict, outfile)"
   ]
  }
 ],
 "metadata": {
  "kernelspec": {
   "display_name": "work",
   "language": "python",
   "name": "python3"
  },
  "language_info": {
   "codemirror_mode": {
    "name": "ipython",
    "version": 3
   },
   "file_extension": ".py",
   "mimetype": "text/x-python",
   "name": "python",
   "nbconvert_exporter": "python",
   "pygments_lexer": "ipython3",
   "version": "3.8.2"
  }
 },
 "nbformat": 4,
 "nbformat_minor": 2
}
